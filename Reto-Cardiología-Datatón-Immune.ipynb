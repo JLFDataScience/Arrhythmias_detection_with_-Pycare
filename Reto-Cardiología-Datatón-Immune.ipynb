{
 "cells": [
  {
   "cell_type": "markdown",
   "metadata": {
    "colab_type": "text",
    "id": "Fwyhn_eleO6u"
   },
   "source": [
    "# **<center>Dataton Septiembre 2020 - Immune Institute</center>** \n",
    "\n",
    "![Immune](https://i.imgur.com/0TSSaqL.png)  \n",
    "\n",
    "\n",
    "\n",
    "¡Bienvenido al Datatón de Immune! Como ya habéis visto en el video, vuestro trabajo consiste en desarrollar un algoritmo con el que podamos averiguar las personas que padecerán del problema cardíaco causado el ataque químico. Para lograr este objetivo, usaréis un conjunto de datos de otros pacientes para poder analizar las variables necesarias y construir el modelo de machine learning que nos ayudará a detectar la enfermedad. \n",
    "\n",
    "\n",
    "**Instrucciones:**\n",
    "- Se usará el lenguaje de programación Python 3.\n",
    "- Se usarán las librerías de python: Pandas, MatPlotLib, Numpy, Scikit-learn.\n",
    "\n",
    "**Mediante este ejercicio, aprenderemos:**\n",
    "- Entender y ejecutar Notebooks con Python.\n",
    "- Ser capaz de utilizar funciones de Python y librerías adicionales.\n",
    "- Dataset:\n",
    " - Obtener el dataset y previsualizar la información del dataset.\n",
    " - Representar y analizar la información del dataset.\n",
    "- Crear y entender el concepto de \"*Conjunto de datos de entrenamiento*\" y \"*Conjuntos de datos de test*\"\n",
    "- Crear y entender el concepto de \"*Clasificador*\" para analizar los datos,  predecir y obtener conclusiones.\n",
    "- Mejorar la predicción.\n",
    "\n",
    "\n",
    "¡Comencemos!"
   ]
  },
  {
   "cell_type": "markdown",
   "metadata": {
    "colab_type": "text",
    "id": "h4cWQVEhm85T"
   },
   "source": [
    "## **1. Importa las librerías necesarias**"
   ]
  },
  {
   "cell_type": "markdown",
   "metadata": {
    "colab_type": "text",
    "id": "Hiaxt0klnE0a"
   },
   "source": [
    "Vamos ahora a descargar las herramientas necesarías para trabajar. \n",
    "\n",
    "**Nota:** Recuerda que para ejecutar cada celda (caja) tienes que usar **Shift+Enter**"
   ]
  },
  {
   "cell_type": "code",
   "execution_count": 4,
   "metadata": {
    "colab": {},
    "colab_type": "code",
    "id": "4A4--Hg4nBqn"
   },
   "outputs": [],
   "source": [
    "import pandas as pd\n",
    "import numpy as np\n",
    "import matplotlib as plt"
   ]
  },
  {
   "cell_type": "code",
   "execution_count": 5,
   "metadata": {},
   "outputs": [
    {
     "name": "stdout",
     "output_type": "stream",
     "text": [
      "Using matplotlib backend: TkAgg\n",
      "Populating the interactive namespace from numpy and matplotlib\n"
     ]
    },
    {
     "name": "stderr",
     "output_type": "stream",
     "text": [
      "c:\\users\\joseluisfernandez\\miniconda3\\envs\\pycaret\\lib\\site-packages\\IPython\\core\\magics\\pylab.py:160: UserWarning: pylab import has clobbered these variables: ['plt']\n",
      "`%matplotlib` prevents importing * from pylab and numpy\n",
      "  \"\\n`%matplotlib` prevents importing * from pylab and numpy\"\n"
     ]
    }
   ],
   "source": [
    "%pylab\n",
    "%matplotlib inline"
   ]
  },
  {
   "cell_type": "markdown",
   "metadata": {
    "colab_type": "text",
    "id": "P-9PgzvdoBHL"
   },
   "source": [
    "## **2. Cargar el dataset**"
   ]
  },
  {
   "cell_type": "markdown",
   "metadata": {
    "colab_type": "text",
    "id": "gbj1nEOXoW2U"
   },
   "source": [
    "Para cargar los datos, debes subirlos desde la carpeta que tienes en la esquina superior izquierda. Una vez guardados, los almacenaremos en un dataframe llamado **data** "
   ]
  },
  {
   "cell_type": "code",
   "execution_count": 3,
   "metadata": {
    "colab": {},
    "colab_type": "code",
    "id": "-_p-Chd0n4YI"
   },
   "outputs": [],
   "source": [
    "data = pd.read_csv('data_reto.csv')"
   ]
  },
  {
   "cell_type": "markdown",
   "metadata": {
    "colab_type": "text",
    "id": "CzgWkb98rkAm"
   },
   "source": [
    "### 2.1 Muestra los primeros valores del archivo para hacernos una idea del contenido de la tabla con el código:"
   ]
  },
  {
   "cell_type": "code",
   "execution_count": 4,
   "metadata": {
    "colab": {},
    "colab_type": "code",
    "id": "g-xsxIFVrtxf"
   },
   "outputs": [
    {
     "data": {
      "text/html": [
       "<div>\n",
       "<style scoped>\n",
       "    .dataframe tbody tr th:only-of-type {\n",
       "        vertical-align: middle;\n",
       "    }\n",
       "\n",
       "    .dataframe tbody tr th {\n",
       "        vertical-align: top;\n",
       "    }\n",
       "\n",
       "    .dataframe thead th {\n",
       "        text-align: right;\n",
       "    }\n",
       "</style>\n",
       "<table border=\"1\" class=\"dataframe\">\n",
       "  <thead>\n",
       "    <tr style=\"text-align: right;\">\n",
       "      <th></th>\n",
       "      <th>TCI</th>\n",
       "      <th>TCSC</th>\n",
       "      <th>exp</th>\n",
       "      <th>expmod</th>\n",
       "      <th>cm</th>\n",
       "      <th>cvbin</th>\n",
       "      <th>frqbin</th>\n",
       "      <th>abin</th>\n",
       "      <th>kurt</th>\n",
       "      <th>vfleak</th>\n",
       "      <th>...</th>\n",
       "      <th>x1</th>\n",
       "      <th>x2</th>\n",
       "      <th>bCP</th>\n",
       "      <th>bWT</th>\n",
       "      <th>bW</th>\n",
       "      <th>Li</th>\n",
       "      <th>count1</th>\n",
       "      <th>count2</th>\n",
       "      <th>count3</th>\n",
       "      <th>VF</th>\n",
       "    </tr>\n",
       "  </thead>\n",
       "  <tbody>\n",
       "    <tr>\n",
       "      <th>0</th>\n",
       "      <td>360.08</td>\n",
       "      <td>42.933</td>\n",
       "      <td>60</td>\n",
       "      <td>135</td>\n",
       "      <td>0.109620</td>\n",
       "      <td>0.15281</td>\n",
       "      <td>1.75</td>\n",
       "      <td>812</td>\n",
       "      <td>0.23413</td>\n",
       "      <td>0.65476</td>\n",
       "      <td>...</td>\n",
       "      <td>0.52618</td>\n",
       "      <td>0.003299</td>\n",
       "      <td>0.258</td>\n",
       "      <td>0.48395</td>\n",
       "      <td>2.1362</td>\n",
       "      <td>49.342</td>\n",
       "      <td>19.25</td>\n",
       "      <td>73.75</td>\n",
       "      <td>8.0208</td>\n",
       "      <td>0</td>\n",
       "    </tr>\n",
       "    <tr>\n",
       "      <th>1</th>\n",
       "      <td>333.41</td>\n",
       "      <td>54.733</td>\n",
       "      <td>120</td>\n",
       "      <td>150</td>\n",
       "      <td>0.149490</td>\n",
       "      <td>0.19259</td>\n",
       "      <td>2.25</td>\n",
       "      <td>740</td>\n",
       "      <td>-0.64581</td>\n",
       "      <td>0.45448</td>\n",
       "      <td>...</td>\n",
       "      <td>0.61896</td>\n",
       "      <td>0.002891</td>\n",
       "      <td>0.220</td>\n",
       "      <td>0.32814</td>\n",
       "      <td>1.5259</td>\n",
       "      <td>28.785</td>\n",
       "      <td>45.00</td>\n",
       "      <td>89.25</td>\n",
       "      <td>25.8700</td>\n",
       "      <td>0</td>\n",
       "    </tr>\n",
       "    <tr>\n",
       "      <th>2</th>\n",
       "      <td>359.18</td>\n",
       "      <td>46.600</td>\n",
       "      <td>90</td>\n",
       "      <td>180</td>\n",
       "      <td>0.169420</td>\n",
       "      <td>0.23900</td>\n",
       "      <td>3.00</td>\n",
       "      <td>606</td>\n",
       "      <td>0.26447</td>\n",
       "      <td>0.61511</td>\n",
       "      <td>...</td>\n",
       "      <td>0.56023</td>\n",
       "      <td>0.005732</td>\n",
       "      <td>0.302</td>\n",
       "      <td>0.34270</td>\n",
       "      <td>1.8921</td>\n",
       "      <td>32.381</td>\n",
       "      <td>28.50</td>\n",
       "      <td>78.25</td>\n",
       "      <td>13.4750</td>\n",
       "      <td>0</td>\n",
       "    </tr>\n",
       "    <tr>\n",
       "      <th>3</th>\n",
       "      <td>416.67</td>\n",
       "      <td>41.867</td>\n",
       "      <td>0</td>\n",
       "      <td>135</td>\n",
       "      <td>0.119590</td>\n",
       "      <td>0.15029</td>\n",
       "      <td>1.75</td>\n",
       "      <td>816</td>\n",
       "      <td>0.65061</td>\n",
       "      <td>0.65536</td>\n",
       "      <td>...</td>\n",
       "      <td>0.50644</td>\n",
       "      <td>0.003234</td>\n",
       "      <td>0.288</td>\n",
       "      <td>0.47740</td>\n",
       "      <td>1.8311</td>\n",
       "      <td>16.677</td>\n",
       "      <td>28.50</td>\n",
       "      <td>77.50</td>\n",
       "      <td>13.6130</td>\n",
       "      <td>0</td>\n",
       "    </tr>\n",
       "    <tr>\n",
       "      <th>4</th>\n",
       "      <td>544.08</td>\n",
       "      <td>49.333</td>\n",
       "      <td>120</td>\n",
       "      <td>120</td>\n",
       "      <td>0.099658</td>\n",
       "      <td>0.16490</td>\n",
       "      <td>2.00</td>\n",
       "      <td>792</td>\n",
       "      <td>-0.14313</td>\n",
       "      <td>0.61120</td>\n",
       "      <td>...</td>\n",
       "      <td>0.28983</td>\n",
       "      <td>0.003547</td>\n",
       "      <td>0.266</td>\n",
       "      <td>0.48095</td>\n",
       "      <td>2.0142</td>\n",
       "      <td>12.484</td>\n",
       "      <td>24.75</td>\n",
       "      <td>74.75</td>\n",
       "      <td>10.5270</td>\n",
       "      <td>0</td>\n",
       "    </tr>\n",
       "  </tbody>\n",
       "</table>\n",
       "<p>5 rows × 31 columns</p>\n",
       "</div>"
      ],
      "text/plain": [
       "      TCI    TCSC  exp  expmod        cm    cvbin  frqbin  abin     kurt  \\\n",
       "0  360.08  42.933   60     135  0.109620  0.15281    1.75   812  0.23413   \n",
       "1  333.41  54.733  120     150  0.149490  0.19259    2.25   740 -0.64581   \n",
       "2  359.18  46.600   90     180  0.169420  0.23900    3.00   606  0.26447   \n",
       "3  416.67  41.867    0     135  0.119590  0.15029    1.75   816  0.65061   \n",
       "4  544.08  49.333  120     120  0.099658  0.16490    2.00   792 -0.14313   \n",
       "\n",
       "    vfleak  ...       x1        x2    bCP      bWT      bW      Li  count1  \\\n",
       "0  0.65476  ...  0.52618  0.003299  0.258  0.48395  2.1362  49.342   19.25   \n",
       "1  0.45448  ...  0.61896  0.002891  0.220  0.32814  1.5259  28.785   45.00   \n",
       "2  0.61511  ...  0.56023  0.005732  0.302  0.34270  1.8921  32.381   28.50   \n",
       "3  0.65536  ...  0.50644  0.003234  0.288  0.47740  1.8311  16.677   28.50   \n",
       "4  0.61120  ...  0.28983  0.003547  0.266  0.48095  2.0142  12.484   24.75   \n",
       "\n",
       "   count2   count3  VF  \n",
       "0   73.75   8.0208   0  \n",
       "1   89.25  25.8700   0  \n",
       "2   78.25  13.4750   0  \n",
       "3   77.50  13.6130   0  \n",
       "4   74.75  10.5270   0  \n",
       "\n",
       "[5 rows x 31 columns]"
      ]
     },
     "execution_count": 4,
     "metadata": {},
     "output_type": "execute_result"
    }
   ],
   "source": [
    "data.head()"
   ]
  },
  {
   "cell_type": "code",
   "execution_count": 4,
   "metadata": {},
   "outputs": [
    {
     "name": "stdout",
     "output_type": "stream",
     "text": [
      "<class 'pandas.core.frame.DataFrame'>\n",
      "RangeIndex: 9146 entries, 0 to 9145\n",
      "Data columns (total 31 columns):\n",
      " #   Column  Non-Null Count  Dtype  \n",
      "---  ------  --------------  -----  \n",
      " 0   TCI     9146 non-null   float64\n",
      " 1   TCSC    9146 non-null   float64\n",
      " 2   exp     9146 non-null   int64  \n",
      " 3   expmod  9146 non-null   int64  \n",
      " 4   cm      9146 non-null   float64\n",
      " 5   cvbin   9146 non-null   float64\n",
      " 6   frqbin  9146 non-null   float64\n",
      " 7   abin    9146 non-null   int64  \n",
      " 8   kurt    9146 non-null   float64\n",
      " 9   vfleak  9146 non-null   float64\n",
      " 10  M       9146 non-null   float64\n",
      " 11  A1      9146 non-null   float64\n",
      " 12  A2      9146 non-null   float64\n",
      " 13  A3      9146 non-null   float64\n",
      " 14  mav     9146 non-null   float64\n",
      " 15  psr     9146 non-null   float64\n",
      " 16  hilb    9146 non-null   float64\n",
      " 17  SamEn   9146 non-null   float64\n",
      " 18  x3      9146 non-null   float64\n",
      " 19  x4      9146 non-null   int64  \n",
      " 20  x5      9146 non-null   float64\n",
      " 21  x1      9146 non-null   float64\n",
      " 22  x2      9146 non-null   float64\n",
      " 23  bCP     9146 non-null   float64\n",
      " 24  bWT     9146 non-null   float64\n",
      " 25  bW      9146 non-null   float64\n",
      " 26  Li      9146 non-null   float64\n",
      " 27  count1  9146 non-null   float64\n",
      " 28  count2  9146 non-null   float64\n",
      " 29  count3  9146 non-null   float64\n",
      " 30  VF      9146 non-null   int64  \n",
      "dtypes: float64(26), int64(5)\n",
      "memory usage: 2.2 MB\n"
     ]
    }
   ],
   "source": [
    "data.info()"
   ]
  },
  {
   "cell_type": "markdown",
   "metadata": {
    "colab_type": "text",
    "id": "juLm2Po3r4Pv"
   },
   "source": [
    "### 2.2 Variables"
   ]
  },
  {
   "cell_type": "markdown",
   "metadata": {
    "colab_type": "text",
    "id": "iOo1M8Sa16JI"
   },
   "source": [
    "![Immune](https://i.imgur.com/Pm5M20g.png)  "
   ]
  },
  {
   "cell_type": "markdown",
   "metadata": {
    "colab_type": "text",
    "id": "Cd6oDkdhvfLy"
   },
   "source": [
    "El dataset consiste en un conjunto de 30 parámetros calculados a partir del Electrocardiograma (ECG). Estos parámetros, recogen distintas características del ECG, desde su comportamiento temporal como a amplitud, pendiente, etc. Hasta carácterísticas un poco más complejas como variables espectrales. A continuación, se muestra la lista completa de parámetros:\n",
    "\n",
    "**Parámetros termporales** \n",
    "\n",
    "* TCI = threshold crossing interval \n",
    "\n",
    "* TCSC = threshold crossing sample count \n",
    "\n",
    "* Exp = exponencial estandard\n",
    "\n",
    "* Expmod = exponencial modificada \n",
    "\n",
    "* MAV = valor medio absoluto\n",
    "\n",
    "* count1 \n",
    "\n",
    "* count2 \n",
    "\n",
    "* count3\n",
    "\n",
    "* x1\n",
    "\n",
    "* x2\n",
    "\n",
    "* bCP\n",
    "\n",
    "**Parámetros espectrales** \n",
    "\n",
    "* vFleak = VF filter\n",
    "\n",
    "* M\n",
    "\n",
    "* A1\n",
    "\n",
    "* A2\n",
    "\n",
    "* A3\n",
    "\n",
    "* x3\n",
    "\n",
    "* x4\n",
    "\n",
    "* x5\n",
    "\n",
    "* bWT\n",
    "\n",
    "**Parámetros de tipo tiempo-frecuencia**\n",
    "\n",
    "* Li = basada en el análisis de ondas del ECG.\n",
    "\n",
    "**Parámetros de complejidad del ECG** \n",
    "\n",
    "* CM = medida de la complejidad\n",
    "\n",
    "* CVbin = covarianza\n",
    "\n",
    "* abin = area\n",
    "\n",
    "* Frqbin = frecuencia\n",
    "\n",
    "* Kurt = Curtosis de una señal binaria extraída del ECG\n",
    "\n",
    "* PSR = La reconstrucción del espacio de fase  \n",
    "\n",
    "* HILB = La transformación de Hilbert\n",
    "\n",
    "* SamEn = Muestra de entropía\n",
    "\n"
   ]
  },
  {
   "cell_type": "markdown",
   "metadata": {
    "colab_type": "text",
    "id": "Rexu7LSUyqOG"
   },
   "source": [
    "### 2.3 Variable de salida\n",
    "\n",
    "La variable que utilizaremos para clasificar los datos será **VF**. Donde:\n",
    "- 0 nos indica que la persona está sana\n",
    "- 1 nos indica que la persona tiene una Fibrilación Ventricular (VF). \n",
    "\n"
   ]
  },
  {
   "cell_type": "markdown",
   "metadata": {
    "colab_type": "text",
    "id": "PRLXnHI-2l-Q"
   },
   "source": [
    "\n",
    "\n",
    "## **4. Analizar dataset:**\n",
    "\n",
    "![Immune](https://i.imgur.com/FBQ64Uz.png)\n",
    "\n",
    "Para entender la distribución de los datos, vamos a observar:\n",
    "\n",
    "- La cantidad de datos (count)\n",
    "- La distribución de los datos mediante cuartiles (25%,50%,75%)\n",
    "- Media de los datos (mean)\n",
    "- Mínimos y máximos (min, max)\n",
    "- Varianza (std)\n",
    "- ..."
   ]
  },
  {
   "cell_type": "markdown",
   "metadata": {
    "colab_type": "text",
    "id": "baO3NUBU5Vuu"
   },
   "source": [
    "**a)** Utiliza la función .describe() para analizar la distribución de los datos"
   ]
  },
  {
   "cell_type": "code",
   "execution_count": 5,
   "metadata": {
    "colab": {},
    "colab_type": "code",
    "id": "UIke9IFd5VNP"
   },
   "outputs": [
    {
     "data": {
      "text/html": [
       "<div>\n",
       "<style scoped>\n",
       "    .dataframe tbody tr th:only-of-type {\n",
       "        vertical-align: middle;\n",
       "    }\n",
       "\n",
       "    .dataframe tbody tr th {\n",
       "        vertical-align: top;\n",
       "    }\n",
       "\n",
       "    .dataframe thead th {\n",
       "        text-align: right;\n",
       "    }\n",
       "</style>\n",
       "<table border=\"1\" class=\"dataframe\">\n",
       "  <thead>\n",
       "    <tr style=\"text-align: right;\">\n",
       "      <th></th>\n",
       "      <th>TCI</th>\n",
       "      <th>TCSC</th>\n",
       "      <th>exp</th>\n",
       "      <th>expmod</th>\n",
       "      <th>cm</th>\n",
       "      <th>cvbin</th>\n",
       "      <th>frqbin</th>\n",
       "      <th>abin</th>\n",
       "      <th>kurt</th>\n",
       "      <th>vfleak</th>\n",
       "      <th>...</th>\n",
       "      <th>x1</th>\n",
       "      <th>x2</th>\n",
       "      <th>bCP</th>\n",
       "      <th>bWT</th>\n",
       "      <th>bW</th>\n",
       "      <th>Li</th>\n",
       "      <th>count1</th>\n",
       "      <th>count2</th>\n",
       "      <th>count3</th>\n",
       "      <th>VF</th>\n",
       "    </tr>\n",
       "  </thead>\n",
       "  <tbody>\n",
       "    <tr>\n",
       "      <th>count</th>\n",
       "      <td>9146.000000</td>\n",
       "      <td>9146.000000</td>\n",
       "      <td>9146.000000</td>\n",
       "      <td>9146.000000</td>\n",
       "      <td>9146.000000</td>\n",
       "      <td>9146.000000</td>\n",
       "      <td>9146.000000</td>\n",
       "      <td>9146.000000</td>\n",
       "      <td>9146.000000</td>\n",
       "      <td>9146.000000</td>\n",
       "      <td>...</td>\n",
       "      <td>9146.000000</td>\n",
       "      <td>9146.000000</td>\n",
       "      <td>9146.000000</td>\n",
       "      <td>9146.000000</td>\n",
       "      <td>9146.000000</td>\n",
       "      <td>9146.000000</td>\n",
       "      <td>9146.000000</td>\n",
       "      <td>9146.000000</td>\n",
       "      <td>9146.000000</td>\n",
       "      <td>9146.000000</td>\n",
       "    </tr>\n",
       "    <tr>\n",
       "      <th>mean</th>\n",
       "      <td>504.320221</td>\n",
       "      <td>26.311054</td>\n",
       "      <td>86.337743</td>\n",
       "      <td>145.712880</td>\n",
       "      <td>0.153696</td>\n",
       "      <td>0.182451</td>\n",
       "      <td>2.793489</td>\n",
       "      <td>727.499344</td>\n",
       "      <td>6.194699</td>\n",
       "      <td>0.709490</td>\n",
       "      <td>...</td>\n",
       "      <td>0.524501</td>\n",
       "      <td>0.064652</td>\n",
       "      <td>0.581557</td>\n",
       "      <td>0.234248</td>\n",
       "      <td>5.008640</td>\n",
       "      <td>25.916175</td>\n",
       "      <td>24.271731</td>\n",
       "      <td>74.598759</td>\n",
       "      <td>11.240366</td>\n",
       "      <td>0.170129</td>\n",
       "    </tr>\n",
       "    <tr>\n",
       "      <th>std</th>\n",
       "      <td>262.511975</td>\n",
       "      <td>20.286627</td>\n",
       "      <td>74.512381</td>\n",
       "      <td>66.011499</td>\n",
       "      <td>0.055616</td>\n",
       "      <td>0.063978</td>\n",
       "      <td>1.310632</td>\n",
       "      <td>126.400750</td>\n",
       "      <td>5.669886</td>\n",
       "      <td>0.167951</td>\n",
       "      <td>...</td>\n",
       "      <td>0.195080</td>\n",
       "      <td>0.066675</td>\n",
       "      <td>0.261768</td>\n",
       "      <td>0.183484</td>\n",
       "      <td>2.433811</td>\n",
       "      <td>19.471469</td>\n",
       "      <td>9.173761</td>\n",
       "      <td>14.051281</td>\n",
       "      <td>8.418466</td>\n",
       "      <td>0.375767</td>\n",
       "    </tr>\n",
       "    <tr>\n",
       "      <th>min</th>\n",
       "      <td>121.520000</td>\n",
       "      <td>2.266700</td>\n",
       "      <td>0.000000</td>\n",
       "      <td>15.000000</td>\n",
       "      <td>0.029897</td>\n",
       "      <td>0.015760</td>\n",
       "      <td>0.000000</td>\n",
       "      <td>500.000000</td>\n",
       "      <td>-1.618400</td>\n",
       "      <td>0.114860</td>\n",
       "      <td>...</td>\n",
       "      <td>0.103090</td>\n",
       "      <td>0.000227</td>\n",
       "      <td>0.030000</td>\n",
       "      <td>0.013999</td>\n",
       "      <td>0.244140</td>\n",
       "      <td>1.004900</td>\n",
       "      <td>9.500000</td>\n",
       "      <td>39.500000</td>\n",
       "      <td>1.999400</td>\n",
       "      <td>0.000000</td>\n",
       "    </tr>\n",
       "    <tr>\n",
       "      <th>25%</th>\n",
       "      <td>297.872500</td>\n",
       "      <td>10.533000</td>\n",
       "      <td>30.000000</td>\n",
       "      <td>90.000000</td>\n",
       "      <td>0.109620</td>\n",
       "      <td>0.152180</td>\n",
       "      <td>1.750000</td>\n",
       "      <td>624.000000</td>\n",
       "      <td>0.690283</td>\n",
       "      <td>0.662507</td>\n",
       "      <td>...</td>\n",
       "      <td>0.388305</td>\n",
       "      <td>0.010427</td>\n",
       "      <td>0.346000</td>\n",
       "      <td>0.096474</td>\n",
       "      <td>3.356900</td>\n",
       "      <td>9.047500</td>\n",
       "      <td>17.750000</td>\n",
       "      <td>64.000000</td>\n",
       "      <td>5.608250</td>\n",
       "      <td>0.000000</td>\n",
       "    </tr>\n",
       "    <tr>\n",
       "      <th>50%</th>\n",
       "      <td>436.110000</td>\n",
       "      <td>17.333000</td>\n",
       "      <td>75.000000</td>\n",
       "      <td>135.000000</td>\n",
       "      <td>0.149490</td>\n",
       "      <td>0.202680</td>\n",
       "      <td>2.500000</td>\n",
       "      <td>718.000000</td>\n",
       "      <td>6.123800</td>\n",
       "      <td>0.771580</td>\n",
       "      <td>...</td>\n",
       "      <td>0.499795</td>\n",
       "      <td>0.047565</td>\n",
       "      <td>0.662000</td>\n",
       "      <td>0.177870</td>\n",
       "      <td>5.188000</td>\n",
       "      <td>22.549000</td>\n",
       "      <td>22.750000</td>\n",
       "      <td>72.500000</td>\n",
       "      <td>8.789250</td>\n",
       "      <td>0.000000</td>\n",
       "    </tr>\n",
       "    <tr>\n",
       "      <th>75%</th>\n",
       "      <td>631.140000</td>\n",
       "      <td>42.450250</td>\n",
       "      <td>120.000000</td>\n",
       "      <td>195.000000</td>\n",
       "      <td>0.189350</td>\n",
       "      <td>0.234860</td>\n",
       "      <td>3.750000</td>\n",
       "      <td>813.000000</td>\n",
       "      <td>9.218200</td>\n",
       "      <td>0.824950</td>\n",
       "      <td>...</td>\n",
       "      <td>0.621315</td>\n",
       "      <td>0.088832</td>\n",
       "      <td>0.796000</td>\n",
       "      <td>0.327257</td>\n",
       "      <td>6.713900</td>\n",
       "      <td>38.808500</td>\n",
       "      <td>27.750000</td>\n",
       "      <td>83.500000</td>\n",
       "      <td>13.360000</td>\n",
       "      <td>0.000000</td>\n",
       "    </tr>\n",
       "    <tr>\n",
       "      <th>max</th>\n",
       "      <td>1861.200000</td>\n",
       "      <td>83.867000</td>\n",
       "      <td>450.000000</td>\n",
       "      <td>375.000000</td>\n",
       "      <td>0.358770</td>\n",
       "      <td>0.250250</td>\n",
       "      <td>8.750000</td>\n",
       "      <td>984.000000</td>\n",
       "      <td>57.369000</td>\n",
       "      <td>0.917030</td>\n",
       "      <td>...</td>\n",
       "      <td>0.993650</td>\n",
       "      <td>0.323140</td>\n",
       "      <td>0.948000</td>\n",
       "      <td>1.084600</td>\n",
       "      <td>11.536000</td>\n",
       "      <td>103.180000</td>\n",
       "      <td>83.000000</td>\n",
       "      <td>123.750000</td>\n",
       "      <td>78.707000</td>\n",
       "      <td>1.000000</td>\n",
       "    </tr>\n",
       "  </tbody>\n",
       "</table>\n",
       "<p>8 rows × 31 columns</p>\n",
       "</div>"
      ],
      "text/plain": [
       "               TCI         TCSC          exp       expmod           cm  \\\n",
       "count  9146.000000  9146.000000  9146.000000  9146.000000  9146.000000   \n",
       "mean    504.320221    26.311054    86.337743   145.712880     0.153696   \n",
       "std     262.511975    20.286627    74.512381    66.011499     0.055616   \n",
       "min     121.520000     2.266700     0.000000    15.000000     0.029897   \n",
       "25%     297.872500    10.533000    30.000000    90.000000     0.109620   \n",
       "50%     436.110000    17.333000    75.000000   135.000000     0.149490   \n",
       "75%     631.140000    42.450250   120.000000   195.000000     0.189350   \n",
       "max    1861.200000    83.867000   450.000000   375.000000     0.358770   \n",
       "\n",
       "             cvbin       frqbin         abin         kurt       vfleak  ...  \\\n",
       "count  9146.000000  9146.000000  9146.000000  9146.000000  9146.000000  ...   \n",
       "mean      0.182451     2.793489   727.499344     6.194699     0.709490  ...   \n",
       "std       0.063978     1.310632   126.400750     5.669886     0.167951  ...   \n",
       "min       0.015760     0.000000   500.000000    -1.618400     0.114860  ...   \n",
       "25%       0.152180     1.750000   624.000000     0.690283     0.662507  ...   \n",
       "50%       0.202680     2.500000   718.000000     6.123800     0.771580  ...   \n",
       "75%       0.234860     3.750000   813.000000     9.218200     0.824950  ...   \n",
       "max       0.250250     8.750000   984.000000    57.369000     0.917030  ...   \n",
       "\n",
       "                x1           x2          bCP          bWT           bW  \\\n",
       "count  9146.000000  9146.000000  9146.000000  9146.000000  9146.000000   \n",
       "mean      0.524501     0.064652     0.581557     0.234248     5.008640   \n",
       "std       0.195080     0.066675     0.261768     0.183484     2.433811   \n",
       "min       0.103090     0.000227     0.030000     0.013999     0.244140   \n",
       "25%       0.388305     0.010427     0.346000     0.096474     3.356900   \n",
       "50%       0.499795     0.047565     0.662000     0.177870     5.188000   \n",
       "75%       0.621315     0.088832     0.796000     0.327257     6.713900   \n",
       "max       0.993650     0.323140     0.948000     1.084600    11.536000   \n",
       "\n",
       "                Li       count1       count2       count3           VF  \n",
       "count  9146.000000  9146.000000  9146.000000  9146.000000  9146.000000  \n",
       "mean     25.916175    24.271731    74.598759    11.240366     0.170129  \n",
       "std      19.471469     9.173761    14.051281     8.418466     0.375767  \n",
       "min       1.004900     9.500000    39.500000     1.999400     0.000000  \n",
       "25%       9.047500    17.750000    64.000000     5.608250     0.000000  \n",
       "50%      22.549000    22.750000    72.500000     8.789250     0.000000  \n",
       "75%      38.808500    27.750000    83.500000    13.360000     0.000000  \n",
       "max     103.180000    83.000000   123.750000    78.707000     1.000000  \n",
       "\n",
       "[8 rows x 31 columns]"
      ]
     },
     "execution_count": 5,
     "metadata": {},
     "output_type": "execute_result"
    }
   ],
   "source": [
    "data.describe()"
   ]
  },
  {
   "cell_type": "markdown",
   "metadata": {
    "colab_type": "text",
    "id": "O5rM7aNh5iaW"
   },
   "source": [
    "Escribe acá toda la información relevante que detectes de la tabla anterior:"
   ]
  },
  {
   "cell_type": "markdown",
   "metadata": {
    "colab_type": "text",
    "id": "F4kATXQEY62f"
   },
   "source": [
    " "
   ]
  },
  {
   "cell_type": "markdown",
   "metadata": {
    "colab_type": "text",
    "id": "PVkYiKo75r6N"
   },
   "source": [
    "**b)** Calcula el total de personas afectadas (VF=1) y sanas (VF=0) del dataframe"
   ]
  },
  {
   "cell_type": "code",
   "execution_count": 6,
   "metadata": {
    "colab": {},
    "colab_type": "code",
    "id": "oHnHIBFy5g1l"
   },
   "outputs": [
    {
     "data": {
      "image/png": "[encoded data removed]",
      "text/plain": [
       "<Figure size 360x288 with 1 Axes>"
      ]
     },
     "metadata": {
      "needs_background": "light"
     },
     "output_type": "display_data"
    }
   ],
   "source": [
    "data[\"VF\"].hist(figsize = (5, 4), color='g', alpha= 0.7);"
   ]
  },
  {
   "cell_type": "markdown",
   "metadata": {},
   "source": [
    "El dataframe se encuentra **desbalanceado** habiendo aproximadamente 5 veces más VF=0 (p. sanas) que VF= 1"
   ]
  },
  {
   "cell_type": "code",
   "execution_count": 7,
   "metadata": {},
   "outputs": [
    {
     "data": {
      "text/plain": [
       "TCI       0\n",
       "TCSC      0\n",
       "exp       0\n",
       "expmod    0\n",
       "cm        0\n",
       "cvbin     0\n",
       "frqbin    0\n",
       "abin      0\n",
       "kurt      0\n",
       "vfleak    0\n",
       "M         0\n",
       "A1        0\n",
       "A2        0\n",
       "A3        0\n",
       "mav       0\n",
       "psr       0\n",
       "hilb      0\n",
       "SamEn     0\n",
       "x3        0\n",
       "x4        0\n",
       "x5        0\n",
       "x1        0\n",
       "x2        0\n",
       "bCP       0\n",
       "bWT       0\n",
       "bW        0\n",
       "Li        0\n",
       "count1    0\n",
       "count2    0\n",
       "count3    0\n",
       "VF        0\n",
       "dtype: int64"
      ]
     },
     "execution_count": 7,
     "metadata": {},
     "output_type": "execute_result"
    }
   ],
   "source": [
    "#Analizamos los datos faltantes\n",
    "#Valores Faltantes\n",
    "data.isnull().sum()"
   ]
  },
  {
   "cell_type": "markdown",
   "metadata": {},
   "source": [
    "No faltan datos en el dataset"
   ]
  },
  {
   "cell_type": "markdown",
   "metadata": {
    "colab_type": "text",
    "id": "w6a1DaCq6KHS"
   },
   "source": [
    "### 4.1 Analizar las relaciones de las variables del *dataset*"
   ]
  },
  {
   "cell_type": "markdown",
   "metadata": {
    "colab_type": "text",
    "id": "nBGdOlUmZRNC"
   },
   "source": [
    "Uno de los primeros pasos que debe hacer un Data Scientist es analizar si existen o no relaciones entre las variables y la salida.\n",
    "\n",
    "-  ¿Que método usarías para analizar esta relación?\n",
    "-  ¿Cual de estas variables está relacionada con **VF**, y cuál no?\n",
    "\n",
    "\n",
    "**c)** Crea una matriz de correlación para analizar esta relación entre las variables.\n",
    "\n",
    "Ayuda: puedes usar los siguientes métodos:\n",
    "- .corr() \n",
    "- crr.style.background_gradient(cmap='coolwarm')\n",
    "\n"
   ]
  },
  {
   "cell_type": "code",
   "execution_count": 80,
   "metadata": {},
   "outputs": [],
   "source": [
    "features = list(data.columns)\n",
    "#features.remove('VF')"
   ]
  },
  {
   "cell_type": "code",
   "execution_count": 81,
   "metadata": {},
   "outputs": [
    {
     "data": {
      "text/plain": [
       "<matplotlib.image.AxesImage at 0x1e34d6cfa90>"
      ]
     },
     "execution_count": 81,
     "metadata": {},
     "output_type": "execute_result"
    },
    {
     "data": {
      "image/png": "[encoded data removed]",
      "text/plain": [
       "<Figure size 288x288 with 1 Axes>"
      ]
     },
     "metadata": {
      "needs_background": "light"
     },
     "output_type": "display_data"
    }
   ],
   "source": [
    "plt.matshow(data[features].corr())"
   ]
  },
  {
   "cell_type": "code",
   "execution_count": 82,
   "metadata": {
    "colab": {},
    "colab_type": "code",
    "id": "sgEqWCqn6Icm"
   },
   "outputs": [
    {
     "data": {
      "image/png": "[encoded data removed]",
      "text/plain": [
       "<Figure size 432x288 with 2 Axes>"
      ]
     },
     "metadata": {
      "needs_background": "light"
     },
     "output_type": "display_data"
    }
   ],
   "source": [
    "from seaborn import heatmap\n",
    "heatmap(data[features].corr(),\n",
    "           xticklabels=data[features].columns,\n",
    "            yticklabels=data[features].columns);"
   ]
  },
  {
   "cell_type": "markdown",
   "metadata": {},
   "source": [
    "Existen bastantes variables correlacionadas entre sí. VF, también se encuentra correlacionada con otras.  "
   ]
  },
  {
   "cell_type": "markdown",
   "metadata": {
    "colab_type": "text",
    "id": "r7QOb3rBcRnB"
   },
   "source": [
    "Cuanto más cercano es el valor a 1 o -1, más correlación (lineal) existe. \n",
    "\n",
    "- **d)** ¿Cuáles son las variables (features) que más se relacionan con la salida (VF)?"
   ]
  },
  {
   "cell_type": "markdown",
   "metadata": {
    "colab_type": "text",
    "id": "aRTpLPOPh3r9"
   },
   "source": [
    "Escribe acá toda la información que consideres relevante de la tabla anterior:\n",
    "\n"
   ]
  },
  {
   "cell_type": "markdown",
   "metadata": {},
   "source": [
    "Vamos a eliminar las variables correlacionadas para simplifica el dataset, mediante el método de **Factor de inflación de la varianza (VIF)**."
   ]
  },
  {
   "cell_type": "code",
   "execution_count": 5,
   "metadata": {},
   "outputs": [],
   "source": [
    "from sklearn.linear_model import LinearRegression\n",
    "import warnings\n",
    "\n",
    "warnings.filterwarnings(\"ignore\", category=RuntimeWarning) \n",
    "\n",
    "def calculateVIF(data):\n",
    "    features = list(data.columns)\n",
    "    num_features = len(features)\n",
    "    \n",
    "    model = LinearRegression()\n",
    "    \n",
    "    result = pd.DataFrame(index = ['VIF'], columns = features)\n",
    "    result = result.fillna(0)\n",
    "    \n",
    "    for ite in range(num_features):\n",
    "        x_features = features[:]\n",
    "        y_featue = features[ite]\n",
    "        x_features.remove(y_featue)\n",
    "        \n",
    "        x = data[x_features]\n",
    "        y = data[y_featue]\n",
    "        \n",
    "        model.fit(data[x_features], data[y_featue])\n",
    "        \n",
    "        result[y_featue] = 1/(1 - model.score(data[x_features], data[y_featue]))\n",
    "    \n",
    "    return result\n",
    "\n",
    "def selectDataUsingVIF(data, max_VIF = 5):\n",
    "    result = data.copy(deep = True)\n",
    "    \n",
    "    VIF = calculateVIF(result)\n",
    "    \n",
    "    while VIF.to_numpy().max() > max_VIF: #Cambio de as_matrix() por values.\n",
    "        col_max = np.where(VIF == VIF.to_numpy().max())[1][0] #Cambio de as_matrix() por values.\n",
    "        features = list(result.columns)\n",
    "        features.remove(features[col_max])\n",
    "        result = result[features]\n",
    "        \n",
    "        VIF = calculateVIF(result)\n",
    "        \n",
    "    return result"
   ]
  },
  {
   "cell_type": "code",
   "execution_count": 6,
   "metadata": {},
   "outputs": [],
   "source": [
    "features = list(data.columns)\n",
    "features.remove('VF')\n",
    "model= data[features]"
   ]
  },
  {
   "cell_type": "code",
   "execution_count": 7,
   "metadata": {},
   "outputs": [
    {
     "data": {
      "text/html": [
       "<div>\n",
       "<style scoped>\n",
       "    .dataframe tbody tr th:only-of-type {\n",
       "        vertical-align: middle;\n",
       "    }\n",
       "\n",
       "    .dataframe tbody tr th {\n",
       "        vertical-align: top;\n",
       "    }\n",
       "\n",
       "    .dataframe thead th {\n",
       "        text-align: right;\n",
       "    }\n",
       "</style>\n",
       "<table border=\"1\" class=\"dataframe\">\n",
       "  <thead>\n",
       "    <tr style=\"text-align: right;\">\n",
       "      <th></th>\n",
       "      <th>TCI</th>\n",
       "      <th>TCSC</th>\n",
       "      <th>exp</th>\n",
       "      <th>expmod</th>\n",
       "      <th>cm</th>\n",
       "      <th>cvbin</th>\n",
       "      <th>frqbin</th>\n",
       "      <th>abin</th>\n",
       "      <th>kurt</th>\n",
       "      <th>vfleak</th>\n",
       "      <th>...</th>\n",
       "      <th>x5</th>\n",
       "      <th>x1</th>\n",
       "      <th>x2</th>\n",
       "      <th>bCP</th>\n",
       "      <th>bWT</th>\n",
       "      <th>bW</th>\n",
       "      <th>Li</th>\n",
       "      <th>count1</th>\n",
       "      <th>count2</th>\n",
       "      <th>count3</th>\n",
       "    </tr>\n",
       "  </thead>\n",
       "  <tbody>\n",
       "    <tr>\n",
       "      <th>VIF</th>\n",
       "      <td>3.089958</td>\n",
       "      <td>37.011557</td>\n",
       "      <td>3.006398</td>\n",
       "      <td>4.062981</td>\n",
       "      <td>20.596008</td>\n",
       "      <td>25.753125</td>\n",
       "      <td>22.032014</td>\n",
       "      <td>23.298609</td>\n",
       "      <td>7.531366</td>\n",
       "      <td>16.304707</td>\n",
       "      <td>...</td>\n",
       "      <td>5.050899</td>\n",
       "      <td>4.520205</td>\n",
       "      <td>7.573654</td>\n",
       "      <td>26.220578</td>\n",
       "      <td>9.170365</td>\n",
       "      <td>13.479189</td>\n",
       "      <td>2.011311</td>\n",
       "      <td>17.499429</td>\n",
       "      <td>8.271014</td>\n",
       "      <td>28.691513</td>\n",
       "    </tr>\n",
       "  </tbody>\n",
       "</table>\n",
       "<p>1 rows × 30 columns</p>\n",
       "</div>"
      ],
      "text/plain": [
       "          TCI       TCSC       exp    expmod         cm      cvbin     frqbin  \\\n",
       "VIF  3.089958  37.011557  3.006398  4.062981  20.596008  25.753125  22.032014   \n",
       "\n",
       "          abin      kurt     vfleak  ...        x5        x1        x2  \\\n",
       "VIF  23.298609  7.531366  16.304707  ...  5.050899  4.520205  7.573654   \n",
       "\n",
       "           bCP       bWT         bW        Li     count1    count2     count3  \n",
       "VIF  26.220578  9.170365  13.479189  2.011311  17.499429  8.271014  28.691513  \n",
       "\n",
       "[1 rows x 30 columns]"
      ]
     },
     "execution_count": 7,
     "metadata": {},
     "output_type": "execute_result"
    }
   ],
   "source": [
    "calculateVIF(model)"
   ]
  },
  {
   "cell_type": "code",
   "execution_count": 8,
   "metadata": {},
   "outputs": [],
   "source": [
    "model_data = selectDataUsingVIF(model)"
   ]
  },
  {
   "cell_type": "code",
   "execution_count": 9,
   "metadata": {},
   "outputs": [
    {
     "data": {
      "text/html": [
       "<div>\n",
       "<style scoped>\n",
       "    .dataframe tbody tr th:only-of-type {\n",
       "        vertical-align: middle;\n",
       "    }\n",
       "\n",
       "    .dataframe tbody tr th {\n",
       "        vertical-align: top;\n",
       "    }\n",
       "\n",
       "    .dataframe thead th {\n",
       "        text-align: right;\n",
       "    }\n",
       "</style>\n",
       "<table border=\"1\" class=\"dataframe\">\n",
       "  <thead>\n",
       "    <tr style=\"text-align: right;\">\n",
       "      <th></th>\n",
       "      <th>TCI</th>\n",
       "      <th>exp</th>\n",
       "      <th>expmod</th>\n",
       "      <th>cm</th>\n",
       "      <th>abin</th>\n",
       "      <th>kurt</th>\n",
       "      <th>M</th>\n",
       "      <th>A1</th>\n",
       "      <th>x3</th>\n",
       "      <th>x5</th>\n",
       "      <th>x1</th>\n",
       "      <th>x2</th>\n",
       "      <th>Li</th>\n",
       "      <th>count1</th>\n",
       "      <th>count2</th>\n",
       "    </tr>\n",
       "  </thead>\n",
       "  <tbody>\n",
       "    <tr>\n",
       "      <th>VIF</th>\n",
       "      <td>2.73271</td>\n",
       "      <td>2.460276</td>\n",
       "      <td>3.269692</td>\n",
       "      <td>2.690926</td>\n",
       "      <td>3.045954</td>\n",
       "      <td>2.536133</td>\n",
       "      <td>3.576675</td>\n",
       "      <td>2.076604</td>\n",
       "      <td>2.818203</td>\n",
       "      <td>3.805226</td>\n",
       "      <td>2.80178</td>\n",
       "      <td>3.604415</td>\n",
       "      <td>1.499562</td>\n",
       "      <td>3.211482</td>\n",
       "      <td>4.833108</td>\n",
       "    </tr>\n",
       "  </tbody>\n",
       "</table>\n",
       "</div>"
      ],
      "text/plain": [
       "         TCI       exp    expmod        cm      abin      kurt         M  \\\n",
       "VIF  2.73271  2.460276  3.269692  2.690926  3.045954  2.536133  3.576675   \n",
       "\n",
       "           A1        x3        x5       x1        x2        Li    count1  \\\n",
       "VIF  2.076604  2.818203  3.805226  2.80178  3.604415  1.499562  3.211482   \n",
       "\n",
       "       count2  \n",
       "VIF  4.833108  "
      ]
     },
     "execution_count": 9,
     "metadata": {},
     "output_type": "execute_result"
    }
   ],
   "source": [
    "calculateVIF(model_data)"
   ]
  },
  {
   "cell_type": "markdown",
   "metadata": {},
   "source": [
    "Hemos reducido de 30 parámetros a la mitad (15), reduciendo la colinealidad del conjunto de datos.  \n",
    "Intentamos reducir aún más las variables eliminando características con **baja varianza** mediante el constructor `VarianceThreshold`"
   ]
  },
  {
   "cell_type": "code",
   "execution_count": 10,
   "metadata": {},
   "outputs": [
    {
     "name": "stdout",
     "output_type": "stream",
     "text": [
      "Número de características originales 15\n",
      "Número de características finales 10\n",
      "\n",
      "Listado de características originales ['TCI', 'exp', 'expmod', 'cm', 'abin', 'kurt', 'M', 'A1', 'x3', 'x5', 'x1', 'x2', 'Li', 'count1', 'count2']\n",
      "Listado de características finales Index(['TCI', 'exp', 'expmod', 'abin', 'kurt', 'M', 'x5', 'Li', 'count1',\n",
      "       'count2'],\n",
      "      dtype='object')\n"
     ]
    }
   ],
   "source": [
    "from sklearn.feature_selection import VarianceThreshold\n",
    "\n",
    "var_th = VarianceThreshold(threshold = 0.25)\n",
    "x_var = var_th.fit_transform(model_data)\n",
    "\n",
    "print(u\"Número de características originales\", model_data.shape[1])\n",
    "print(u\"Número de características finales\", x_var.shape[1])\n",
    "print(u\"\\nListado de características originales\", list(model_data.columns))#model_data['feature_names'])\n",
    "print(u\"Listado de características finales\", model_data.columns[var_th.get_support(indices=True)])"
   ]
  },
  {
   "cell_type": "code",
   "execution_count": 11,
   "metadata": {},
   "outputs": [],
   "source": [
    "#Por tanto el nuevo dataset reducido a 10 variables sería:\n",
    "model_data = model_data[model_data.columns[var_th.get_support(indices=True)]]"
   ]
  },
  {
   "cell_type": "markdown",
   "metadata": {},
   "source": [
    "Volvemos a realizar la matriz de correlación"
   ]
  },
  {
   "cell_type": "code",
   "execution_count": 12,
   "metadata": {},
   "outputs": [
    {
     "data": {
      "image/png": "[encoded data removed]",
      "text/plain": [
       "<Figure size 432x288 with 2 Axes>"
      ]
     },
     "metadata": {
      "needs_background": "light"
     },
     "output_type": "display_data"
    }
   ],
   "source": [
    "from seaborn import heatmap\n",
    "features = list(model_data.columns)\n",
    "heatmap(model_data[features].corr(),\n",
    "           xticklabels=data[features].columns,\n",
    "            yticklabels=data[features].columns);"
   ]
  },
  {
   "cell_type": "markdown",
   "metadata": {},
   "source": [
    "Intentamos reducir un poco más las variables mediante selección univariante de las mejores características mediante el constructor `SelectKBest`"
   ]
  },
  {
   "cell_type": "code",
   "execution_count": 13,
   "metadata": {},
   "outputs": [
    {
     "name": "stdout",
     "output_type": "stream",
     "text": [
      "Número de características finales 5\n",
      "Listado de características finales Index(['expmod', 'kurt', 'Li', 'count1', 'count2'], dtype='object')\n"
     ]
    }
   ],
   "source": [
    "from sklearn.feature_selection import SelectKBest\n",
    "from sklearn.feature_selection import chi2, f_classif, mutual_info_classif #métodos para clasificación\n",
    "\n",
    "var_sk = SelectKBest(f_classif, k = 5)\n",
    "x_sk = var_sk.fit_transform(model_data, data['VF'])\n",
    "\n",
    "print(u\"Número de características finales\", x_sk.shape[1])\n",
    "#print(u\"Listado de características finales\", boston['feature_names'][var_sk.get_support()])\n",
    "print(u\"Listado de características finales\", model_data.columns[var_sk.get_support(indices=True)])"
   ]
  },
  {
   "cell_type": "code",
   "execution_count": 14,
   "metadata": {},
   "outputs": [],
   "source": [
    "#Por tanto el nuevo dataset lo volvemos a reducir a 5 variables sería:\n",
    "model_data = model_data[model_data.columns[var_sk.get_support(indices=True)]]"
   ]
  },
  {
   "cell_type": "markdown",
   "metadata": {
    "colab_type": "text",
    "id": "U8jr9HyxiGVN"
   },
   "source": [
    "### 4.2 Análisis descriptivo"
   ]
  },
  {
   "cell_type": "markdown",
   "metadata": {
    "colab_type": "text",
    "id": "WWMlOCiEiRP7"
   },
   "source": [
    "Representaremos visualmente los datos de manera que:\n",
    "- Cada punto simbolice una persona\n",
    "- Un punto es amarillo si la persona tiene Fibrilación Ventricular, y azul si no lo es\n",
    "- Los ejes x e y representan dos variables que queramos comparar"
   ]
  },
  {
   "cell_type": "markdown",
   "metadata": {
    "colab_type": "text",
    "id": "w_6fh8L5iUIq"
   },
   "source": [
    "Función auxiliar para representar gráficas de valores del dataset"
   ]
  },
  {
   "cell_type": "code",
   "execution_count": 19,
   "metadata": {
    "colab": {},
    "colab_type": "code",
    "id": "5QpCqeoHiOHF"
   },
   "outputs": [],
   "source": [
    "# FUNCION AUXILIAR; NO MODIFICAR, SOLO EJECUTAR\n",
    "import plotly.offline as py\n",
    "import plotly.graph_objs as go\n",
    "\n",
    "def plot_feat1_feat2(feat1, feat2) :  \n",
    "    D = data[(data['VF'] != 0)]\n",
    "    H = data[(data['VF'] == 0)]\n",
    "    trace0 = go.Scatter(x = D[feat1],  y = D[feat2],  name = 'VF',  mode = 'markers',  marker = dict(color = '#FFD700', line = dict(width = 1)))\n",
    "    trace1 = go.Scatter(x = H[feat1],y = H[feat2], name='healthy', mode='markers', marker = dict(color = '#7EC0EE', line = dict(width = 1)))\n",
    "    layout = dict(title = feat1 +\" \"+\"vs\"+\" \"+ feat2, yaxis = dict(title = feat2,zeroline = False),  xaxis = dict(title = feat1, zeroline = False))\n",
    "    plots = [trace0, trace1]\n",
    "    fig = dict(data = plots, layout=layout)\n",
    "    py.iplot(fig)"
   ]
  },
  {
   "cell_type": "code",
   "execution_count": 66,
   "metadata": {},
   "outputs": [
    {
     "data": {
      "image/png": "[encoded data removed]",
      "text/plain": [
       "<Figure size 432x288 with 1 Axes>"
      ]
     },
     "metadata": {
      "needs_background": "light"
     },
     "output_type": "display_data"
    }
   ],
   "source": [
    "ax1 = data.plot.scatter(x='TCI',\n",
    "                      y='expmod',\n",
    "                      c='g')"
   ]
  },
  {
   "cell_type": "code",
   "execution_count": 71,
   "metadata": {},
   "outputs": [
    {
     "data": {
      "image/png": "[encoded data removed]",
      "text/plain": [
       "<Figure size 360x360 with 1 Axes>"
      ]
     },
     "metadata": {
      "needs_background": "light"
     },
     "output_type": "display_data"
    }
   ],
   "source": [
    "import seaborn as sns\n",
    "\n",
    "# Use the 'hue' argument to provide a factor variable\n",
    "sns.lmplot( x=\"TCI\", y=\"expmod\", data=data, fit_reg=False, hue='VF', legend=False)\n",
    " \n",
    "# Move the legend to an empty part of the plot\n",
    "plt.legend(loc='lower right');"
   ]
  },
  {
   "cell_type": "markdown",
   "metadata": {
    "colab_type": "text",
    "id": "fMfAoPaGikqA"
   },
   "source": [
    "Intenta explicar que ocurre en la función auxiliar aquí:"
   ]
  },
  {
   "cell_type": "markdown",
   "metadata": {
    "colab_type": "text",
    "id": "gTtEbdJMinlM"
   },
   "source": [
    "Ejemplo para representar información de \"2 columnas\" vs \"la que nos interesa predecir\""
   ]
  },
  {
   "cell_type": "markdown",
   "metadata": {
    "colab_type": "text",
    "id": "qLC1WXRJk0bK"
   },
   "source": [
    "**e)** Representa gráficamente la relación entre 'x4' y 'x3'\n"
   ]
  },
  {
   "cell_type": "code",
   "execution_count": 15,
   "metadata": {
    "colab": {},
    "colab_type": "code",
    "id": "mCv2DDvdk-uM"
   },
   "outputs": [],
   "source": [
    "# La representación puede lograrse con el siguiente código:\n",
    "#plot_feat1_feat2('x4','x3');"
   ]
  },
  {
   "cell_type": "markdown",
   "metadata": {
    "colab_type": "text",
    "id": "1qoOgzytk_mu"
   },
   "source": [
    "**f)** Representa gráficamente la relación entre 'tci' y 'mav'\n"
   ]
  },
  {
   "cell_type": "code",
   "execution_count": null,
   "metadata": {
    "colab": {},
    "colab_type": "code",
    "id": "jQvh6P5elL8K"
   },
   "outputs": [],
   "source": []
  },
  {
   "cell_type": "markdown",
   "metadata": {
    "colab_type": "text",
    "id": "LSnhxvXolM1_"
   },
   "source": [
    "**g)** Representa gráficamente la relación entre otras variables que consideres hayan tenido una buena correlación en la pregunta **c)**"
   ]
  },
  {
   "cell_type": "code",
   "execution_count": null,
   "metadata": {
    "colab": {},
    "colab_type": "code",
    "id": "egwVWO5nlWrP"
   },
   "outputs": [],
   "source": []
  },
  {
   "cell_type": "markdown",
   "metadata": {
    "colab_type": "text",
    "id": "4FdE1gjulgGp"
   },
   "source": [
    "## **5. Clasificación**\n",
    "\n",
    "El clasificador es un algoritmo que nos va a permitir analizar un conjunto de datos y clasificarlos en grupos. \n",
    "\n",
    "En Machine Learning se utiliza un clasificador para el análisis de datos en [aprendizaje supervisado](https://es.wikipedia.org/wiki/Aprendizaje_supervisado).\n",
    "\n",
    "![Clasificación](https://static.javatpoint.com/tutorial/machine-learning/images/classification-algorithm-in-machine-learning.png)\n",
    "\n",
    "\n",
    "\n",
    "**Ejemplo**\n",
    "- Dado un conjunto de emails, determinar cuál es spam y cuál no.\n",
    "- Dado un conjunto de imágenes de animales, determinar cuáles son perros.\n",
    "\n",
    "**Objetivo**\n",
    "- En este reto, queremos lograr **clasificar** a las personas en con Fibrilación Ventricular ( VF=1) y personas sanas (VF=0). Es un ejercicio de **clasificación**.\n",
    "- A continuación puede visualizarse la diferencia entre \"clasificación\" y \"regresión\"\n",
    "![Clasificación vs regresión](https://res.cloudinary.com/practicaldev/image/fetch/s--c4Lfzdwy--/c_limit%2Cf_auto%2Cfl_progressive%2Cq_auto%2Cw_880/https://thepracticaldev.s3.amazonaws.com/i/mjshszqx4fj22hs12vfn.png)\n",
    "\n",
    "**Implementación**\n",
    "- Crear un conjunto de datos de entrenamiento y un conjunto de datos de test\n",
    "- Crear un clasificador mediante un [tipo de algoritmo](https://www.javatpoint.com/classification-algorithm-in-machine-learning): *RandomForest, XgBoost, KNN*\n",
    "- Entrenar el clasificador con los \"datos de entrenamiento\" y de las \"features\" que queremos tener en cuenta para el entrenamiento.\n",
    "- Predecir resultados mediante nuestro set de datos de test o mediante nuevos datos.\n",
    "- Determinar las conclusiones de los resultados obtenidos en las predicciones, como el % de acierto y precisión obtenida.\n",
    "\n",
    "\n"
   ]
  },
  {
   "cell_type": "code",
   "execution_count": null,
   "metadata": {
    "colab": {},
    "colab_type": "code",
    "id": "QrPqm4VjtpY7"
   },
   "outputs": [],
   "source": [
    "from sklearn.linear_model import LogisticRegression\n",
    "from sklearn.model_selection import train_test_split\n",
    "\n",
    "#X = data.drop('VF',axis=1)\n",
    "#y = data['VF']\n"
   ]
  },
  {
   "cell_type": "markdown",
   "metadata": {
    "colab_type": "text",
    "id": "BqOvXs70tsd5"
   },
   "source": [
    "**h)** Crea un conjunto de datos de entrenamiento y un conjunto de datos de test.\n",
    "\n",
    "Intrucciones: \n",
    "\n",
    "- seed: esta variable será igual la suma de las fechas de cumpleaños de los participantes. \n",
    "\n",
    "- test_size: no se permite usar más del 20% de datos para crear el test\n",
    "[link text](https://)"
   ]
  },
  {
   "cell_type": "code",
   "execution_count": 16,
   "metadata": {
    "colab": {},
    "colab_type": "code",
    "id": "C_K_mgEnt8fJ"
   },
   "outputs": [],
   "source": [
    "#seed =   #suma los cumpleños de los participantes por el número del equipo\n",
    "#test_size =  #0.20\n",
    "from sklearn.model_selection import train_test_split\n",
    "x_train, x_test, y_train, y_test = train_test_split(model_data, data['VF'], random_state = 100, test_size= 0.20)"
   ]
  },
  {
   "cell_type": "code",
   "execution_count": 73,
   "metadata": {},
   "outputs": [],
   "source": [
    "#Guardamos el dataset para iniciar desde este punto\n",
    "model_data.to_csv('model_data.csv',index=False)\n",
    "target = data['VF']\n",
    "target.to_csv('target.csv', index=False)"
   ]
  },
  {
   "cell_type": "markdown",
   "metadata": {},
   "source": [
    "### 👉Iniciamos desde este punto"
   ]
  },
  {
   "cell_type": "code",
   "execution_count": 8,
   "metadata": {},
   "outputs": [],
   "source": [
    "model_data = pd.read_csv('model_data.csv')\n",
    "target = pd.read_csv('target.csv')"
   ]
  },
  {
   "cell_type": "code",
   "execution_count": 9,
   "metadata": {},
   "outputs": [],
   "source": [
    "from sklearn.model_selection import train_test_split\n",
    "x_train, x_test, y_train, y_test = train_test_split(model_data, target, random_state = 100, test_size= 0.20)"
   ]
  },
  {
   "cell_type": "code",
   "execution_count": 10,
   "metadata": {},
   "outputs": [],
   "source": [
    "from sklearn.metrics import accuracy_score, auc, confusion_matrix, f1_score, precision_score, recall_score, roc_curve\n",
    "\n",
    "def metricas_modelos(y_true, y_pred):\n",
    "    from sklearn.metrics import accuracy_score, auc, confusion_matrix, f1_score, precision_score, recall_score, roc_curve\n",
    "\n",
    "    # Obtención de matriz de confusión\n",
    "    confusion_matrix = confusion_matrix(y_true, y_pred)\n",
    "\n",
    "    print(\"La matriz de confusión es \")\n",
    "    print(confusion_matrix)\n",
    "\n",
    "    print('Precisión:', accuracy_score(y_true, y_pred))\n",
    "    print('Exactitud:', precision_score(y_true, y_pred))\n",
    "    print('Exhaustividad:', recall_score(y_true, y_pred))\n",
    "    print('F1:', f1_score(y_true, y_pred))\n",
    "\n",
    "    false_positive_rate, recall, thresholds = roc_curve(y_true, y_pred)\n",
    "    roc_auc = auc(false_positive_rate, recall)\n",
    "\n",
    "    print('AUC:', auc(false_positive_rate, recall))\n",
    "\n",
    "    plot(false_positive_rate, recall, 'b')\n",
    "    plot([0, 1], [0, 1], 'r--')\n",
    "    title('AUC = %0.2f' % roc_auc)"
   ]
  },
  {
   "cell_type": "markdown",
   "metadata": {
    "colab_type": "text",
    "id": "7gwf-pwCu2tA"
   },
   "source": [
    "**h)** Crea el clasificador y entrénalo"
   ]
  },
  {
   "cell_type": "code",
   "execution_count": null,
   "metadata": {
    "colab": {},
    "colab_type": "code",
    "id": "3u7-fu98u_XX"
   },
   "outputs": [],
   "source": [
    "#Crear clasificador Regresión Logística\n",
    "# Una línea de código\n",
    "classif =  LogisticRegression(solver = 'liblinear')\n",
    "\n",
    "\n",
    "# Entrenar el clasificador con las los datos de entrenamiento y las feature\n",
    "# Una línea de código\n",
    "classif.fit('completar')"
   ]
  },
  {
   "cell_type": "markdown",
   "metadata": {},
   "source": [
    "### Probamos con la regresión logística"
   ]
  },
  {
   "cell_type": "code",
   "execution_count": 16,
   "metadata": {},
   "outputs": [
    {
     "name": "stderr",
     "output_type": "stream",
     "text": [
      "c:\\users\\joseluisfernandez\\miniconda3\\envs\\pycaret\\lib\\site-packages\\sklearn\\utils\\deprecation.py:143: FutureWarning: The sklearn.linear_model.logistic module is  deprecated in version 0.22 and will be removed in version 0.24. The corresponding classes / functions should instead be imported from sklearn.linear_model. Anything that cannot be imported from sklearn.linear_model is now part of the private API.\n",
      "  warnings.warn(message, FutureWarning)\n",
      "c:\\users\\joseluisfernandez\\miniconda3\\envs\\pycaret\\lib\\site-packages\\sklearn\\utils\\validation.py:72: DataConversionWarning: A column-vector y was passed when a 1d array was expected. Please change the shape of y to (n_samples, ), for example using ravel().\n",
      "  return f(**kwargs)\n"
     ]
    },
    {
     "name": "stdout",
     "output_type": "stream",
     "text": [
      "La matriz de confusión es \n",
      "[[5967  111]\n",
      " [  88 1150]]\n",
      "Precisión: 0.9727993439037725\n",
      "Exactitud: 0.9119746233148295\n",
      "Exhaustividad: 0.9289176090468497\n",
      "F1: 0.9203681472589036\n",
      "AUC: 0.9553275113348759\n"
     ]
    },
    {
     "data": {
      "image/png": "[encoded data removed]",
      "text/plain": [
       "<Figure size 432x288 with 1 Axes>"
      ]
     },
     "metadata": {
      "needs_background": "light"
     },
     "output_type": "display_data"
    }
   ],
   "source": [
    "from sklearn.linear_model.logistic import LogisticRegression\n",
    "\n",
    "model = LogisticRegression().fit(x_train, y_train)\n",
    "y_pred_train = model.predict(x_train)\n",
    "y_pred_test = model.predict(x_test)\n",
    "\n",
    "metricas_modelos(y_train, y_pred_train);"
   ]
  },
  {
   "cell_type": "markdown",
   "metadata": {},
   "source": [
    "Vamos a comprobar que no esta sobreajustado con el test"
   ]
  },
  {
   "cell_type": "code",
   "execution_count": 17,
   "metadata": {},
   "outputs": [
    {
     "name": "stdout",
     "output_type": "stream",
     "text": [
      "La matriz de confusión es \n",
      "[[1483   29]\n",
      " [  24  294]]\n",
      "Precisión: 0.9710382513661202\n",
      "Exactitud: 0.9102167182662538\n",
      "Exhaustividad: 0.9245283018867925\n",
      "F1: 0.9173166926677068\n",
      "AUC: 0.952674203853449\n"
     ]
    },
    {
     "data": {
      "image/png": "[encoded data removed]",
      "text/plain": [
       "<Figure size 432x288 with 1 Axes>"
      ]
     },
     "metadata": {
      "needs_background": "light"
     },
     "output_type": "display_data"
    }
   ],
   "source": [
    "metricas_modelos(y_test, y_pred_test)"
   ]
  },
  {
   "cell_type": "markdown",
   "metadata": {
    "colab_type": "text",
    "id": "9WU_8vznviwL"
   },
   "source": [
    "**g)** Predecir resultados y determinar acierto. ¡Consigue la mayor precisión posible!"
   ]
  },
  {
   "cell_type": "code",
   "execution_count": 33,
   "metadata": {
    "colab": {},
    "colab_type": "code",
    "id": "O6yByImQvjo5"
   },
   "outputs": [
    {
     "name": "stdout",
     "output_type": "stream",
     "text": [
      "0.9759562841530055\n"
     ]
    }
   ],
   "source": [
    "# Aplicar classif.predict sobre los datos X de test (X_test)\n",
    "# Una línea de código\n",
    "#y_pred = #completar\n",
    "\n",
    "# Mostrar resultado de la predicción del clasificador\n",
    "print((len(y_test)-sum(abs(y_test-y_pred_test)))/len(y_test))"
   ]
  },
  {
   "cell_type": "markdown",
   "metadata": {
    "colab_type": "text",
    "id": "2TrKGVP5vptd"
   },
   "source": [
    "# 4. Matriz de Confusión\n",
    "\n",
    "La Matriz de Confusión es una métrica que nos va a permitir conocer el rendimiento y acierto de una clasificación realizada con Machine Learning.\n",
    "Podemos encontrar información adicional para entender su objectivo en el siguiente enlace: [ConfusionMatrix](https://towardsdatascience.com/understanding-confusion-matrix-a9ad42dcfd62)\n",
    "![texto alternativo](https://miro.medium.com/max/578/1*7EYylA6XlXSGBCF77j_rOA.png)"
   ]
  },
  {
   "cell_type": "markdown",
   "metadata": {
    "colab_type": "text",
    "id": "BBCDV8Kfvts3"
   },
   "source": [
    "**h)** Crearemos una matriz de confusión para analizar las predicciones anteriores obtenidas de nuestro clasificador."
   ]
  },
  {
   "cell_type": "code",
   "execution_count": 20,
   "metadata": {
    "colab": {},
    "colab_type": "code",
    "id": "YB6xKHoTvqgw"
   },
   "outputs": [
    {
     "data": {
      "image/png": "[encoded data removed]",
      "text/plain": [
       "<Figure size 432x288 with 2 Axes>"
      ]
     },
     "metadata": {
      "needs_background": "light"
     },
     "output_type": "display_data"
    }
   ],
   "source": [
    "from sklearn.metrics import confusion_matrix, plot_confusion_matrix\n",
    "disp = plot_confusion_matrix(model, x_test, y_test,cmap=plt.cm.Blues,normalize = 'true')"
   ]
  },
  {
   "cell_type": "markdown",
   "metadata": {
    "colab_type": "text",
    "id": "LdXTOTRnv6x0"
   },
   "source": [
    "¿Qué porcentaje de casos se situa en cada cuadrante? ¿En medicina, es peor un false positive o un false negative? Comenta aquí la matriz y responde a las preguntas:"
   ]
  },
  {
   "cell_type": "markdown",
   "metadata": {
    "colab_type": "text",
    "id": "knBYzY6hwFF_"
   },
   "source": [
    "# 5. Mejorar predicción\n",
    "\n",
    "¿Crees que puedes mejorar la predicción?\n",
    "\n",
    "Puedes intentar:\n",
    "\n",
    "- Optimizar los parámetros del clasificador\n",
    "- Prueba entrenar otro tipo de clasificador"
   ]
  },
  {
   "cell_type": "code",
   "execution_count": null,
   "metadata": {
    "colab": {},
    "colab_type": "code",
    "id": "wk72ADO9v8gc"
   },
   "outputs": [],
   "source": [
    "#Optimización de parámetros"
   ]
  },
  {
   "cell_type": "code",
   "execution_count": 19,
   "metadata": {
    "colab": {},
    "colab_type": "code",
    "id": "TX6mZZ4WwjEK"
   },
   "outputs": [
    {
     "name": "stderr",
     "output_type": "stream",
     "text": [
      "c:\\users\\joseluisfernandez\\miniconda3\\envs\\pycaret\\lib\\site-packages\\sklearn\\utils\\validation.py:72: DataConversionWarning: A column-vector y was passed when a 1d array was expected. Please change the shape of y to (n_samples, ), for example using ravel().\n",
      "  return f(**kwargs)\n",
      "c:\\users\\joseluisfernandez\\miniconda3\\envs\\pycaret\\lib\\site-packages\\sklearn\\utils\\validation.py:72: DataConversionWarning: A column-vector y was passed when a 1d array was expected. Please change the shape of y to (n_samples, ), for example using ravel().\n",
      "  return f(**kwargs)\n",
      "c:\\users\\joseluisfernandez\\miniconda3\\envs\\pycaret\\lib\\site-packages\\sklearn\\utils\\validation.py:72: DataConversionWarning: A column-vector y was passed when a 1d array was expected. Please change the shape of y to (n_samples, ), for example using ravel().\n",
      "  return f(**kwargs)\n",
      "c:\\users\\joseluisfernandez\\miniconda3\\envs\\pycaret\\lib\\site-packages\\sklearn\\utils\\validation.py:72: DataConversionWarning: A column-vector y was passed when a 1d array was expected. Please change the shape of y to (n_samples, ), for example using ravel().\n",
      "  return f(**kwargs)\n",
      "c:\\users\\joseluisfernandez\\miniconda3\\envs\\pycaret\\lib\\site-packages\\sklearn\\utils\\validation.py:72: DataConversionWarning: A column-vector y was passed when a 1d array was expected. Please change the shape of y to (n_samples, ), for example using ravel().\n",
      "  return f(**kwargs)\n",
      "c:\\users\\joseluisfernandez\\miniconda3\\envs\\pycaret\\lib\\site-packages\\sklearn\\utils\\validation.py:72: DataConversionWarning: A column-vector y was passed when a 1d array was expected. Please change the shape of y to (n_samples, ), for example using ravel().\n",
      "  return f(**kwargs)\n",
      "c:\\users\\joseluisfernandez\\miniconda3\\envs\\pycaret\\lib\\site-packages\\sklearn\\utils\\validation.py:72: DataConversionWarning: A column-vector y was passed when a 1d array was expected. Please change the shape of y to (n_samples, ), for example using ravel().\n",
      "  return f(**kwargs)\n",
      "c:\\users\\joseluisfernandez\\miniconda3\\envs\\pycaret\\lib\\site-packages\\sklearn\\utils\\validation.py:72: DataConversionWarning: A column-vector y was passed when a 1d array was expected. Please change the shape of y to (n_samples, ), for example using ravel().\n",
      "  return f(**kwargs)\n",
      "c:\\users\\joseluisfernandez\\miniconda3\\envs\\pycaret\\lib\\site-packages\\sklearn\\utils\\validation.py:72: DataConversionWarning: A column-vector y was passed when a 1d array was expected. Please change the shape of y to (n_samples, ), for example using ravel().\n",
      "  return f(**kwargs)\n",
      "c:\\users\\joseluisfernandez\\miniconda3\\envs\\pycaret\\lib\\site-packages\\sklearn\\utils\\validation.py:72: DataConversionWarning: A column-vector y was passed when a 1d array was expected. Please change the shape of y to (n_samples, ), for example using ravel().\n",
      "  return f(**kwargs)\n"
     ]
    },
    {
     "name": "stdout",
     "output_type": "stream",
     "text": [
      "La matriz de confusión es \n",
      "[[7325  265]\n",
      " [ 108 1448]]\n",
      "Precisión: 0.9592171441067133\n",
      "Exactitud: 0.8453006421482778\n",
      "Exhaustividad: 0.9305912596401028\n",
      "F1: 0.8858978280819823\n",
      "AUC: 0.9478384493193928\n"
     ]
    },
    {
     "data": {
      "image/png": "[encoded data removed]",
      "text/plain": [
       "<Figure size 432x288 with 1 Axes>"
      ]
     },
     "metadata": {
      "needs_background": "light"
     },
     "output_type": "display_data"
    }
   ],
   "source": [
    "#Validación cruzada\n",
    "from sklearn.model_selection import cross_val_predict\n",
    "\n",
    "cv = cross_val_predict(LogisticRegression(),\n",
    "                         model_data,\n",
    "                         #data['VF'],\n",
    "                         target,\n",
    "                         cv = 10)\n",
    "\n",
    "metricas_modelos(target, cv);\n",
    "#Disminuye el rendimiento AUC: 095 frente a AUC: 0.96"
   ]
  },
  {
   "cell_type": "markdown",
   "metadata": {},
   "source": [
    "### Árboles de decisión"
   ]
  },
  {
   "cell_type": "code",
   "execution_count": 14,
   "metadata": {},
   "outputs": [
    {
     "name": "stdout",
     "output_type": "stream",
     "text": [
      "La matriz de confusión es \n",
      "[[5993   85]\n",
      " [  86 1152]]\n",
      "Precisión: 0.9766265718972116\n",
      "Exactitud: 0.931285367825384\n",
      "Exhaustividad: 0.9305331179321487\n",
      "F1: 0.9309090909090909\n",
      "AUC: 0.9582741272451134\n"
     ]
    },
    {
     "data": {
      "image/png": "[encoded data removed]",
      "text/plain": [
       "<Figure size 432x288 with 1 Axes>"
      ]
     },
     "metadata": {
      "needs_background": "light"
     },
     "output_type": "display_data"
    }
   ],
   "source": [
    "#Probamos otros métodos: Árboles de Decisión\n",
    "from sklearn.tree import DecisionTreeClassifier\n",
    "\n",
    "dt_classifier = DecisionTreeClassifier(criterion = 'entropy',\n",
    "                              max_depth = 4, #Bajamos la profundidad para no sobreajuste\n",
    "                              random_state = 0).fit(x_train, y_train)\n",
    "y_pred_train = dt_classifier.predict(x_train)\n",
    "y_pred_test = dt_classifier.predict(x_test)\n",
    "\n",
    "metricas_modelos(y_train, y_pred_train);"
   ]
  },
  {
   "cell_type": "code",
   "execution_count": 15,
   "metadata": {},
   "outputs": [
    {
     "name": "stdout",
     "output_type": "stream",
     "text": [
      "La matriz de confusión es \n",
      "[[1481   31]\n",
      " [  27  291]]\n",
      "Precisión: 0.9683060109289617\n",
      "Exactitud: 0.9037267080745341\n",
      "Exhaustividad: 0.9150943396226415\n",
      "F1: 0.9093749999999999\n",
      "AUC: 0.947295847059998\n"
     ]
    },
    {
     "data": {
      "image/png": "[encoded data removed]",
      "text/plain": [
       "<Figure size 432x288 with 1 Axes>"
      ]
     },
     "metadata": {
      "needs_background": "light"
     },
     "output_type": "display_data"
    }
   ],
   "source": [
    "#Probamos el sobreajuste\n",
    "metricas_modelos(y_test, y_pred_test);"
   ]
  },
  {
   "cell_type": "markdown",
   "metadata": {},
   "source": [
    "Parece que limitando al profundidad del árbol conseguimos disminuir el sobreajuste del modelo."
   ]
  },
  {
   "cell_type": "markdown",
   "metadata": {},
   "source": [
    "### Random forest"
   ]
  },
  {
   "cell_type": "code",
   "execution_count": 45,
   "metadata": {},
   "outputs": [
    {
     "name": "stdout",
     "output_type": "stream",
     "text": [
      "La matriz de confusión es \n",
      "[[6006   72]\n",
      " [ 117 1121]]\n",
      "Precisión: 0.9741662110442865\n",
      "Exactitud: 0.9396479463537301\n",
      "Exhaustividad: 0.9054927302100162\n",
      "F1: 0.9222542163718634\n",
      "AUC: 0.9468233641178413\n"
     ]
    },
    {
     "data": {
      "image/png": "[encoded data removed]",
      "text/plain": [
       "<Figure size 432x288 with 1 Axes>"
      ]
     },
     "metadata": {
      "needs_background": "light"
     },
     "output_type": "display_data"
    }
   ],
   "source": [
    "from sklearn.ensemble import RandomForestClassifier\n",
    "\n",
    "rf_classifier = RandomForestClassifier(n_estimators = 5,\n",
    "                                       max_depth = 4,\n",
    "                                       random_state = 1)\n",
    "rf_classifier.fit(x_train, y_train)\n",
    "y_pred_train = rf_classifier.predict(x_train)\n",
    "y_pred_test = rf_classifier.predict(x_test)\n",
    "\n",
    "metricas_modelos(y_train, y_pred_train)"
   ]
  },
  {
   "cell_type": "code",
   "execution_count": 46,
   "metadata": {},
   "outputs": [
    {
     "name": "stdout",
     "output_type": "stream",
     "text": [
      "La matriz de confusión es \n",
      "[[1487   25]\n",
      " [  26  292]]\n",
      "Precisión: 0.9721311475409836\n",
      "Exactitud: 0.9211356466876972\n",
      "Exhaustividad: 0.9182389937106918\n",
      "F1: 0.9196850393700788\n",
      "AUC: 0.9508523010881501\n"
     ]
    },
    {
     "data": {
      "image/png": "[encoded data removed]",
      "text/plain": [
       "<Figure size 432x288 with 1 Axes>"
      ]
     },
     "metadata": {
      "needs_background": "light"
     },
     "output_type": "display_data"
    }
   ],
   "source": [
    "metricas_modelos(y_test, y_pred_test)"
   ]
  },
  {
   "cell_type": "markdown",
   "metadata": {},
   "source": [
    "### Máquinas de vectores de soporte"
   ]
  },
  {
   "cell_type": "code",
   "execution_count": 50,
   "metadata": {},
   "outputs": [
    {
     "name": "stdout",
     "output_type": "stream",
     "text": [
      "La matriz de confusión es \n",
      "[[5969  109]\n",
      " [ 116 1122]]\n",
      "Precisión: 0.9692454893384364\n",
      "Exactitud: 0.9114541023558083\n",
      "Exhaustividad: 0.9063004846526656\n",
      "F1: 0.9088699878493318\n",
      "AUC: 0.944183476942983\n"
     ]
    },
    {
     "data": {
      "image/png": "[encoded data removed]",
      "text/plain": [
       "<Figure size 432x288 with 1 Axes>"
      ]
     },
     "metadata": {
      "needs_background": "light"
     },
     "output_type": "display_data"
    }
   ],
   "source": [
    "from sklearn.svm import SVC\n",
    "\n",
    "svm_classifier = SVC().fit(x_train, y_train)\n",
    "y_pred_train = svm_classifier.predict(x_train)\n",
    "y_pred_test = svm_classifier.predict(x_test)\n",
    "\n",
    "metricas_modelos(y_train, y_pred_train)"
   ]
  },
  {
   "cell_type": "code",
   "execution_count": 51,
   "metadata": {},
   "outputs": [
    {
     "name": "stdout",
     "output_type": "stream",
     "text": [
      "La matriz de confusión es \n",
      "[[1474   38]\n",
      " [  32  286]]\n",
      "Precisión: 0.9617486338797814\n",
      "Exactitud: 0.8827160493827161\n",
      "Exhaustividad: 0.89937106918239\n",
      "F1: 0.8909657320872275\n",
      "AUC: 0.9371193970250574\n"
     ]
    },
    {
     "data": {
      "image/png": "[encoded data removed]",
      "text/plain": [
       "<Figure size 432x288 with 1 Axes>"
      ]
     },
     "metadata": {
      "needs_background": "light"
     },
     "output_type": "display_data"
    }
   ],
   "source": [
    "metricas_modelos(y_test, y_pred_test)"
   ]
  },
  {
   "cell_type": "markdown",
   "metadata": {},
   "source": [
    "### Vecinos más cercanos"
   ]
  },
  {
   "cell_type": "code",
   "execution_count": 12,
   "metadata": {},
   "outputs": [
    {
     "name": "stderr",
     "output_type": "stream",
     "text": [
      "c:\\users\\joseluisfernandez\\miniconda3\\envs\\pycaret\\lib\\site-packages\\ipykernel_launcher.py:4: DataConversionWarning: A column-vector y was passed when a 1d array was expected. Please change the shape of y to (n_samples, ), for example using ravel().\n",
      "  after removing the cwd from sys.path.\n"
     ]
    },
    {
     "name": "stdout",
     "output_type": "stream",
     "text": [
      "La matriz de confusión es \n",
      "[[5950  128]\n",
      " [  91 1147]]\n",
      "Precisión: 0.9700656096227447\n",
      "Exactitud: 0.899607843137255\n",
      "Exhaustividad: 0.9264943457189014\n",
      "F1: 0.9128531635495424\n",
      "AUC: 0.9527173933267097\n"
     ]
    },
    {
     "data": {
      "image/png": "[encoded data removed]",
      "text/plain": [
       "<Figure size 432x288 with 1 Axes>"
      ]
     },
     "metadata": {
      "needs_background": "light"
     },
     "output_type": "display_data"
    }
   ],
   "source": [
    "from sklearn.neighbors import KNeighborsClassifier\n",
    "\n",
    "knn_classifier = KNeighborsClassifier(n_neighbors = 25)\n",
    "knn_classifier.fit(x_train, y_train)\n",
    "y_pred_train = knn_classifier.predict(x_train)\n",
    "y_pred_test = knn_classifier.predict(x_test)\n",
    "\n",
    "metricas_modelos(y_train, y_pred_train);"
   ]
  },
  {
   "cell_type": "code",
   "execution_count": 13,
   "metadata": {},
   "outputs": [
    {
     "name": "stdout",
     "output_type": "stream",
     "text": [
      "La matriz de confusión es \n",
      "[[1470   42]\n",
      " [  30  288]]\n",
      "Precisión: 0.9606557377049181\n",
      "Exactitud: 0.8727272727272727\n",
      "Exhaustividad: 0.9056603773584906\n",
      "F1: 0.8888888888888888\n",
      "AUC: 0.9389412997903563\n"
     ]
    },
    {
     "data": {
      "image/png": "[encoded data removed]",
      "text/plain": [
       "<Figure size 432x288 with 1 Axes>"
      ]
     },
     "metadata": {
      "needs_background": "light"
     },
     "output_type": "display_data"
    }
   ],
   "source": [
    "metricas_modelos(y_test, y_pred_test)"
   ]
  },
  {
   "cell_type": "markdown",
   "metadata": {},
   "source": [
    "### Extra Trees Classifier"
   ]
  },
  {
   "cell_type": "code",
   "execution_count": 20,
   "metadata": {},
   "outputs": [
    {
     "name": "stderr",
     "output_type": "stream",
     "text": [
      "c:\\users\\joseluisfernandez\\miniconda3\\envs\\pycaret\\lib\\site-packages\\ipykernel_launcher.py:3: DataConversionWarning: A column-vector y was passed when a 1d array was expected. Please change the shape of y to (n_samples,), for example using ravel().\n",
      "  This is separate from the ipykernel package so we can avoid doing imports until\n"
     ]
    },
    {
     "name": "stdout",
     "output_type": "stream",
     "text": [
      "La matriz de confusión es \n",
      "[[6078    0]\n",
      " [   0 1238]]\n",
      "Precisión: 1.0\n",
      "Exactitud: 1.0\n",
      "Exhaustividad: 1.0\n",
      "F1: 1.0\n",
      "AUC: 1.0\n"
     ]
    },
    {
     "data": {
      "image/png": "[encoded data removed]",
      "text/plain": [
       "<Figure size 432x288 with 1 Axes>"
      ]
     },
     "metadata": {
      "needs_background": "light"
     },
     "output_type": "display_data"
    }
   ],
   "source": [
    "from sklearn.ensemble import ExtraTreesClassifier\n",
    "etc = ExtraTreesClassifier(n_estimators=100, random_state=0)\n",
    "etc.fit(x_train, y_train)\n",
    "y_pred_train = etc.predict(x_train)\n",
    "y_pred_test = etc.predict(x_test)\n",
    "\n",
    "metricas_modelos(y_train, y_pred_train);"
   ]
  },
  {
   "cell_type": "code",
   "execution_count": 21,
   "metadata": {},
   "outputs": [
    {
     "name": "stdout",
     "output_type": "stream",
     "text": [
      "La matriz de confusión es \n",
      "[[1487   25]\n",
      " [  20  298]]\n",
      "Precisión: 0.9754098360655737\n",
      "Exactitud: 0.9226006191950464\n",
      "Exhaustividad: 0.9371069182389937\n",
      "F1: 0.9297971918876755\n",
      "AUC: 0.9602862633523012\n"
     ]
    },
    {
     "data": {
      "image/png": "[encoded data removed]",
      "text/plain": [
       "<Figure size 432x288 with 1 Axes>"
      ]
     },
     "metadata": {
      "needs_background": "light"
     },
     "output_type": "display_data"
    }
   ],
   "source": [
    "metricas_modelos(y_test, y_pred_test)"
   ]
  },
  {
   "cell_type": "code",
   "execution_count": null,
   "metadata": {},
   "outputs": [],
   "source": [
    "Parece que hay algo de sobreajuste pero es el modelo con mejor rendimiento"
   ]
  },
  {
   "cell_type": "markdown",
   "metadata": {
    "colab_type": "text",
    "id": "MNG7PPRXynMN"
   },
   "source": [
    "##**EVALUACIÓN:**\n",
    "Cuando termines el reto, calcula los siguientes valores para el modelo que mejor predicción obtuviste:\n",
    "- BER\n",
    "- Número de variables que usaste para entrenarlo"
   ]
  },
  {
   "cell_type": "markdown",
   "metadata": {},
   "source": [
    "**BER**: La gran ventaja de esta métrica es que toma en consideración la tasa de error de cada clase, lo cual previene\n",
    "la construcción de modelos parcializados (que favorezcan la clase mayoritaria) en conjuntos de datos desbalanceados (donde el número de muestras de cada clase es distinto). Otra ventaja de esta métrica, es que es la utilizada en el Performance Prediction Challenge (Guyon et al (2006)), por lo que nos permite comparar nuestros resultados más fácilmente"
   ]
  },
  {
   "cell_type": "code",
   "execution_count": 23,
   "metadata": {
    "colab": {},
    "colab_type": "code",
    "id": "2eA3saiXzB7x"
   },
   "outputs": [
    {
     "name": "stdout",
     "output_type": "stream",
     "text": [
      "1.764705882352935\n",
      "5\n"
     ]
    }
   ],
   "source": [
    "import sklearn.metrics as metrics\n",
    "data_onu = pd.read_csv('data_onu.csv')\n",
    "\n",
    "# list of features\n",
    "features = x_train.columns \n",
    "\n",
    "X_onu = data_onu.drop('VF',axis=1)\n",
    "y_onu = data_onu['VF']\n",
    "\n",
    "#y_pred_onu = model.predict(X_onu[features])#Con el Árbol de decisión peor BER (model=5.68) que con Regresión logística\n",
    "#y_pred_onu = rf_classifier.predict(X_onu[features])# El segundo mejor resultado con Random Forest (BER=4.5)\n",
    "y_pred_onu = etc.predict(X_onu[features])# El mejor resultado con Extra Trees Classifier (BER=1.76)\n",
    "\n",
    "BER = 1 - metrics.balanced_accuracy_score(y_onu, y_pred_onu)\n",
    "variables = len(features)\n",
    "print(BER*100)\n",
    "print(variables)"
   ]
  },
  {
   "cell_type": "markdown",
   "metadata": {
    "colab_type": "text",
    "id": "ejHeG510OZ-h"
   },
   "source": [
    "Postea tus resultados en twitter usando el siguiente hashtag #DatatónIMMUNE y @immuneinstitute con el código de tu equipo.\n",
    "\n",
    "Para poder validar tus resultados, debes adjuntar una imagen de la celda anterior"
   ]
  },
  {
   "cell_type": "code",
   "execution_count": null,
   "metadata": {
    "colab": {},
    "colab_type": "code",
    "id": "vSm2AsdhPcmZ"
   },
   "outputs": [],
   "source": []
  }
 ],
 "metadata": {
  "colab": {
   "authorship_tag": "ABX9TyP5ZFQDEp6SWZN8uR+2mSWH",
   "collapsed_sections": [],
   "mount_file_id": "1tm31IYJa-Gv3db-68ujrtClSFDq8sBR8",
   "name": "Reto-Cardiología-Datatón-Immune.ipynb",
   "provenance": [
    {
     "file_id": "1tm31IYJa-Gv3db-68ujrtClSFDq8sBR8",
     "timestamp": 1600464702001
    },
    {
     "file_id": "1leFvtDcWQ04Q0I4ZSw9YxJQF28dF13vx",
     "timestamp": 1600443302385
    }
   ]
  },
  "kernelspec": {
   "display_name": "Python 3",
   "language": "python",
   "name": "python3"
  },
  "language_info": {
   "codemirror_mode": {
    "name": "ipython",
    "version": 3
   },
   "file_extension": ".py",
   "mimetype": "text/x-python",
   "name": "python",
   "nbconvert_exporter": "python",
   "pygments_lexer": "ipython3",
   "version": "3.6.11"
  }
 },
 "nbformat": 4,
 "nbformat_minor": 1
}
